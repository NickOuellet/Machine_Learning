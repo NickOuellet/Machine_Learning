{
 "cells": [
  {
   "cell_type": "code",
   "execution_count": 1,
   "metadata": {},
   "outputs": [],
   "source": [
    "import numpy as np\n",
    "import matplotlib.pyplot as plt"
   ]
  },
  {
   "cell_type": "markdown",
   "metadata": {},
   "source": [
    "### a.) Generate N two dimensaional data points"
   ]
  },
  {
   "cell_type": "code",
   "execution_count": 23,
   "metadata": {},
   "outputs": [],
   "source": [
    "N = 100\n",
    "x_data = np.random.uniform(-1,1,size=(N,3))\n",
    "x_data[:,0] = 0"
   ]
  },
  {
   "cell_type": "markdown",
   "metadata": {},
   "source": [
    "### b.) Generate truth labels"
   ]
  },
  {
   "cell_type": "code",
   "execution_count": 24,
   "metadata": {},
   "outputs": [],
   "source": [
    "def h1(x):\n",
    "    w1 = np.transpose([0,1,-1])\n",
    "    return np.sign(np.dot(np.transpose(w1),x))\n",
    "\n",
    "def h2(x):\n",
    "    w2 = np.transpose([0,1,1])\n",
    "    return np.sign(np.dot(np.transpose(w2),x))"
   ]
  },
  {
   "cell_type": "code",
   "execution_count": 120,
   "metadata": {},
   "outputs": [],
   "source": [
    "def compute_truth_labels(x_data):\n",
    "    output = []\n",
    "    for x in x_data:\n",
    "        if (h1(x)<0 and h2(x)<0) or (h1(x)<0 and h2(x)>0): #XOR gate\n",
    "            output.append(1)\n",
    "        else:\n",
    "            output.append(-1)\n",
    "    return output"
   ]
  },
  {
   "cell_type": "code",
   "execution_count": 121,
   "metadata": {},
   "outputs": [],
   "source": [
    "y = compute_truth_labels(x_data)"
   ]
  },
  {
   "cell_type": "markdown",
   "metadata": {},
   "source": [
    "### c.) Assign Weights and implement forward propagation"
   ]
  },
  {
   "cell_type": "code",
   "execution_count": 122,
   "metadata": {},
   "outputs": [],
   "source": [
    "W1 = np.transpose([-1.5,1.,-1.])\n",
    "W2 = np.transpose([-1.5,-1.,1])\n",
    "W3 = np.transpose([1.5,1.,1.])\n",
    "\n",
    "W = [W1,W2,W3]"
   ]
  },
  {
   "cell_type": "code",
   "execution_count": 123,
   "metadata": {},
   "outputs": [],
   "source": [
    "def neural_net(x, theta,W):\n",
    "    x_curr = x\n",
    "    for weight in W:\n",
    "        s = np.dot(np.transpose(weight),x_curr)\n",
    "        x_curr = np.transpose([0,1,theta(s)])\n",
    "    return x_curr[2]"
   ]
  },
  {
   "cell_type": "code",
   "execution_count": 124,
   "metadata": {},
   "outputs": [],
   "source": [
    "def get_predictions(x_data, theta, W):\n",
    "    predicted_y = []\n",
    "    for x in x_data:\n",
    "        predicted_y.append(neural_net(x,theta,W))\n",
    "    return predicted_y"
   ]
  },
  {
   "cell_type": "code",
   "execution_count": 125,
   "metadata": {},
   "outputs": [],
   "source": [
    "def get_squared_error(array1,array2):\n",
    "    return np.square(np.subtract(array1,array2)).mean()"
   ]
  },
  {
   "cell_type": "markdown",
   "metadata": {},
   "source": [
    "### d.) Predict labels for theta(t) = sign(t)"
   ]
  },
  {
   "cell_type": "code",
   "execution_count": 126,
   "metadata": {},
   "outputs": [],
   "source": [
    "predicted_y_sign = get_predictions(x_data, np.sign, W)"
   ]
  },
  {
   "cell_type": "code",
   "execution_count": 127,
   "metadata": {},
   "outputs": [
    {
     "data": {
      "text/plain": [
       "2.47"
      ]
     },
     "execution_count": 127,
     "metadata": {},
     "output_type": "execute_result"
    }
   ],
   "source": [
    "get_squared_error(predicted_y_sign,y)\n"
   ]
  },
  {
   "cell_type": "markdown",
   "metadata": {},
   "source": [
    "### e.) Predict labels for theta(t) = np.tanh()"
   ]
  },
  {
   "cell_type": "code",
   "execution_count": 128,
   "metadata": {},
   "outputs": [],
   "source": [
    "predicted_y_tanh = get_predictions(x_data, np.tanh, W)"
   ]
  },
  {
   "cell_type": "code",
   "execution_count": 129,
   "metadata": {},
   "outputs": [
    {
     "data": {
      "text/plain": [
       "1.4626837419722447"
      ]
     },
     "execution_count": 129,
     "metadata": {},
     "output_type": "execute_result"
    }
   ],
   "source": [
    "get_squared_error(predicted_y_tanh,y)"
   ]
  }
 ],
 "metadata": {
  "interpreter": {
   "hash": "4bd3767b9a68b1809be1a8a3b2146e6067673f8776213bfbf5c8fe8ac7d04b67"
  },
  "kernelspec": {
   "display_name": "Python 3.8.8 64-bit (conda)",
   "language": "python",
   "name": "python3"
  },
  "language_info": {
   "codemirror_mode": {
    "name": "ipython",
    "version": 3
   },
   "file_extension": ".py",
   "mimetype": "text/x-python",
   "name": "python",
   "nbconvert_exporter": "python",
   "pygments_lexer": "ipython3",
   "version": "3.8.8"
  },
  "orig_nbformat": 4
 },
 "nbformat": 4,
 "nbformat_minor": 2
}
